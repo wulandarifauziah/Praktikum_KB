{
 "cells": [
  {
   "cell_type": "markdown",
   "id": "52210945-03e7-458d-8cb4-4da6cc80bf34",
   "metadata": {},
   "source": [
    "# Posttest 5: Deep Learning untuk Klasifikasi Banknote\n",
    "\n",
    "Pada posttest ini, kita akan membangun sebuah model *Deep Learning* sederhana menggunakan **Keras Sequential API** untuk menyelesaikan masalah **klasifikasi biner**.\n",
    "\n",
    "**Tujuan:**\n",
    "Dataset ini berisi data hasil ekstraksi fitur dari gambar uang kertas. Tujuan model kita adalah untuk memprediksi apakah sebuah uang kertas **Asli (0)** atau **Palsu (1)**.\n",
    "\n",
    "**Instruksi yang Harus Dipenuhi:**\n",
    "1.  Dataset tidak boleh sama.\n",
    "2.  Minimal akurasi training 70% dan validation 70%. \n",
    "3.  Gunakan sequential model. \n",
    "4.  Buat model deep learning sederhana."
   ]
  },
  {
   "cell_type": "code",
   "execution_count": 10,
   "id": "a0ec759b-6286-435b-89f9-9c3d22176022",
   "metadata": {},
   "outputs": [
    {
     "name": "stdout",
     "output_type": "stream",
     "text": [
      "Pandas version: 2.3.2\n",
      "TensorFlow version: 2.13.0\n"
     ]
    }
   ],
   "source": [
    "# Import Libraries\n",
    "# Kita mengimpor semua library yang dibutuhkan di awal.\n",
    "import pandas as pd\n",
    "import tensorflow as tf\n",
    "from tensorflow.keras.models import Sequential\n",
    "from tensorflow.keras.layers import Dense, Input\n",
    "from sklearn.model_selection import train_test_split\n",
    "from sklearn.preprocessing import StandardScaler\n",
    "import matplotlib.pyplot as plt\n",
    "\n",
    "print(f\"Pandas version: {pd.__version__}\")\n",
    "print(f\"TensorFlow version: {tf.__version__}\")"
   ]
  },
  {
   "cell_type": "markdown",
   "id": "de895818-b7ac-4b7e-a942-f1f4fb28e19c",
   "metadata": {},
   "source": [
    "## 1. Memuat dan Mempersiapkan Data\n",
    "\n",
    "Kita akan memuat dataset `data_banknote_authentication.csv`. Berdasarkan inspeksi kita sebelumnya, dataset ini tidak memiliki *header* (judul kolom).\n",
    "\n",
    "Oleh karena itu, kita akan memuatnya menggunakan `header=None` dan memberikan nama kolom secara manual sesuai dokumentasi dataset:\n",
    "* `variance`\n",
    "* `skewness`\n",
    "* `curtosis`\n",
    "* `entropy`\n",
    "* `class` (Target kita: 0 = Asli, 1 = Palsu)"
   ]
  },
  {
   "cell_type": "code",
   "execution_count": 11,
   "id": "917c31fe-e6a6-446e-90cc-1a2ac87b8b79",
   "metadata": {},
   "outputs": [
    {
     "name": "stdout",
     "output_type": "stream",
     "text": [
      "Dataset berhasil dimuat!\n"
     ]
    },
    {
     "data": {
      "text/html": [
       "<div>\n",
       "<style scoped>\n",
       "    .dataframe tbody tr th:only-of-type {\n",
       "        vertical-align: middle;\n",
       "    }\n",
       "\n",
       "    .dataframe tbody tr th {\n",
       "        vertical-align: top;\n",
       "    }\n",
       "\n",
       "    .dataframe thead th {\n",
       "        text-align: right;\n",
       "    }\n",
       "</style>\n",
       "<table border=\"1\" class=\"dataframe\">\n",
       "  <thead>\n",
       "    <tr style=\"text-align: right;\">\n",
       "      <th></th>\n",
       "      <th>variance</th>\n",
       "      <th>skewness</th>\n",
       "      <th>curtosis</th>\n",
       "      <th>entropy</th>\n",
       "      <th>class</th>\n",
       "    </tr>\n",
       "  </thead>\n",
       "  <tbody>\n",
       "    <tr>\n",
       "      <th>0</th>\n",
       "      <td>3.62160</td>\n",
       "      <td>8.6661</td>\n",
       "      <td>-2.8073</td>\n",
       "      <td>-0.44699</td>\n",
       "      <td>0</td>\n",
       "    </tr>\n",
       "    <tr>\n",
       "      <th>1</th>\n",
       "      <td>4.54590</td>\n",
       "      <td>8.1674</td>\n",
       "      <td>-2.4586</td>\n",
       "      <td>-1.46210</td>\n",
       "      <td>0</td>\n",
       "    </tr>\n",
       "    <tr>\n",
       "      <th>2</th>\n",
       "      <td>3.86600</td>\n",
       "      <td>-2.6383</td>\n",
       "      <td>1.9242</td>\n",
       "      <td>0.10645</td>\n",
       "      <td>0</td>\n",
       "    </tr>\n",
       "    <tr>\n",
       "      <th>3</th>\n",
       "      <td>3.45660</td>\n",
       "      <td>9.5228</td>\n",
       "      <td>-4.0112</td>\n",
       "      <td>-3.59440</td>\n",
       "      <td>0</td>\n",
       "    </tr>\n",
       "    <tr>\n",
       "      <th>4</th>\n",
       "      <td>0.32924</td>\n",
       "      <td>-4.4552</td>\n",
       "      <td>4.5718</td>\n",
       "      <td>-0.98880</td>\n",
       "      <td>0</td>\n",
       "    </tr>\n",
       "  </tbody>\n",
       "</table>\n",
       "</div>"
      ],
      "text/plain": [
       "   variance  skewness  curtosis  entropy  class\n",
       "0   3.62160    8.6661   -2.8073 -0.44699      0\n",
       "1   4.54590    8.1674   -2.4586 -1.46210      0\n",
       "2   3.86600   -2.6383    1.9242  0.10645      0\n",
       "3   3.45660    9.5228   -4.0112 -3.59440      0\n",
       "4   0.32924   -4.4552    4.5718 -0.98880      0"
      ]
     },
     "execution_count": 11,
     "metadata": {},
     "output_type": "execute_result"
    }
   ],
   "source": [
    "# Load Dataset\n",
    "# Tentukan nama kolom\n",
    "column_names = ['variance', 'skewness', 'curtosis', 'entropy', 'class']\n",
    "\n",
    "# Baca CSV, beritahu pandas tidak ada header, dan berikan nama kolom\n",
    "try:\n",
    "    df = pd.read_csv(\"data_banknote_authentication.csv\", header=None, names=column_names)\n",
    "    print(\"Dataset berhasil dimuat!\")\n",
    "except FileNotFoundError:\n",
    "    print(\"Error: File 'data_banknote_authentication.csv' tidak ditemukan.\")\n",
    "    print(\"Pastikan file dataset berada di folder yang sama dengan notebook ini.\")\n",
    "\n",
    "# Tampilkan 5 data pertama untuk inspeksi\n",
    "df.head()"
   ]
  },
  {
   "cell_type": "markdown",
   "id": "442d49da-2a9b-4162-9c6a-82153cfc416b",
   "metadata": {},
   "source": [
    "## 2. Inspeksi Data (EDA Sederhana)\n",
    "\n",
    "Sebelum melatih model, kita perlu:\n",
    "1.  Memeriksa tipe data (`.info()`) untuk memastikan semua fitur numerik dan tidak ada data yang hilang (*missing values*).\n",
    "2.  Memeriksa distribusi kelas target (`.value_counts()`) untuk melihat apakah datanya seimbang."
   ]
  },
  {
   "cell_type": "code",
   "execution_count": 4,
   "id": "f9695d7c-055d-4c71-a05d-223b3545f56d",
   "metadata": {},
   "outputs": [
    {
     "name": "stdout",
     "output_type": "stream",
     "text": [
      "--- Info Dataset ---\n",
      "<class 'pandas.core.frame.DataFrame'>\n",
      "RangeIndex: 1372 entries, 0 to 1371\n",
      "Data columns (total 5 columns):\n",
      " #   Column    Non-Null Count  Dtype  \n",
      "---  ------    --------------  -----  \n",
      " 0   variance  1372 non-null   float64\n",
      " 1   skewness  1372 non-null   float64\n",
      " 2   curtosis  1372 non-null   float64\n",
      " 3   entropy   1372 non-null   float64\n",
      " 4   class     1372 non-null   int64  \n",
      "dtypes: float64(4), int64(1)\n",
      "memory usage: 53.7 KB\n",
      "\n",
      "--- Distribusi Kelas Target (class) ---\n",
      "class\n",
      "0    762\n",
      "1    610\n",
      "Name: count, dtype: int64\n"
     ]
    }
   ],
   "source": [
    "# Inspeksi Data\n",
    "print(\"--- Info Dataset ---\")\n",
    "df.info()\n",
    "\n",
    "print(\"\\n--- Distribusi Kelas Target (class) ---\")\n",
    "print(df['class'].value_counts())"
   ]
  },
  {
   "cell_type": "markdown",
   "id": "b866183b-4058-420a-8a52-eed014938653",
   "metadata": {},
   "source": [
    "### Penjelasan Hasil Inspeksi\n",
    "\n",
    "* **Info Dataset:** `1372 entries` (baris data), 0 *non-null* di semua kolom. Ini artinya **data kita bersih** dan tidak ada nilai yang hilang (*missing values*). Semua 4 fitur sudah dalam bentuk `float64` (angka) dan target `class` dalam bentuk `int64` (angka). Sempurna.\n",
    "* **Distribusi Kelas:**\n",
    "    * Kelas `0` (Asli): 762 sampel\n",
    "    * Kelas `1` (Palsu): 610 sampel\n",
    "    \n",
    "Dataset ini cukup seimbang, jadi kita tidak perlu teknik *sampling* khusus."
   ]
  },
  {
   "cell_type": "markdown",
   "id": "995f2d8a-6e6f-4912-9fce-4bb7d4eb1be5",
   "metadata": {},
   "source": [
    "## 3. Preprocessing Data\n",
    "\n",
    "Model *Deep Learning* bekerja paling baik ketika data fitur (X) memiliki skala yang seragam. Kita akan melakukan 3 langkah:\n",
    "\n",
    "1.  **Pemisahan Fitur (X) dan Target (y):** Kita pisahkan dataset menjadi `X` (kolom fitur) dan `y` (kolom target).\n",
    "2.  **Scaling Fitur:** Kita akan menggunakan `StandardScaler` dari Scikit-learn untuk men-skala-kan `X`. Ini akan mengubah distribusi setiap fitur sehingga memiliki rata-rata 0 dan standar deviasi 1.\n",
    "3.  **Split Data:** Kita bagi data menjadi 80% data latih (*training*) dan 20% data validasi (*validation*)."
   ]
  },
  {
   "cell_type": "code",
   "execution_count": 12,
   "id": "d94c3d94-5b8f-4cf7-b1b8-8913678030fc",
   "metadata": {},
   "outputs": [
    {
     "name": "stdout",
     "output_type": "stream",
     "text": [
      "Bentuk X_train: (1097, 4)\n",
      "Bentuk X_val: (275, 4)\n"
     ]
    }
   ],
   "source": [
    "# Pisahkan Fitur dan Target\n",
    "X = df.drop('class', axis=1)  # Semua kolom KECUALI 'class'\n",
    "y = df['class']              # Hanya kolom 'class'\n",
    "\n",
    "# Cell 5: Scaling Fitur\n",
    "# Scaling sangat penting untuk performa model DNN\n",
    "scaler = StandardScaler()\n",
    "X_scaled = scaler.fit_transform(X)\n",
    "\n",
    "# Cell 6: Split Data (Training & Validation)\n",
    "# test_size=0.2 berarti 20% data untuk validasi, 80% untuk training\n",
    "# random_state=42 memastikan hasil split kita konsisten setiap kali dijalankan\n",
    "X_train, X_val, y_train, y_val = train_test_split(X_scaled, y, test_size=0.2, random_state=42)\n",
    "\n",
    "print(f\"Bentuk X_train: {X_train.shape}\")\n",
    "print(f\"Bentuk X_val: {X_val.shape}\")"
   ]
  },
  {
   "cell_type": "markdown",
   "id": "fde119cc-5eb0-4013-818b-95e81ec59ba6",
   "metadata": {},
   "source": [
    "## 4. Membangun Model Deep Learning (Sequential)\n",
    "\n",
    "Ini adalah inti dari posttest. Kita akan memenuhi **Instruksi 3 & 4**.\n",
    "Kita akan membuat model **Sequential** sederhana (DNN / MLP).\n",
    "\n",
    "**Arsitektur Model:**\n",
    "1.  **Input Layer:** Ditentukan oleh `input_shape=(4,)` di layer pertama, karena kita punya 4 fitur (variance, skewness, curtosis, entropy).\n",
    "2.  **Hidden Layer 1:** `Dense` layer dengan 16 neuron dan aktivasi `relu`.\n",
    "3.  **Hidden Layer 2:** `Dense` layer dengan 8 neuron dan aktivasi `relu`.\n",
    "4.  **Output Layer:** `Dense` layer dengan 1 neuron dan aktivasi **`sigmoid`**.\n",
    "    * Kita pakai 1 neuron karena ini klasifikasi biner (0 atau 1).\n",
    "    * Kita pakai `sigmoid` karena fungsi ini akan mengeluarkan probabilitas (nilai antara 0 dan 1)."
   ]
  },
  {
   "cell_type": "code",
   "execution_count": 13,
   "id": "adf48ebb-ebc0-4365-bcde-091f6dcf707b",
   "metadata": {},
   "outputs": [
    {
     "name": "stdout",
     "output_type": "stream",
     "text": [
      "Model: \"sequential_1\"\n",
      "_________________________________________________________________\n",
      " Layer (type)                Output Shape              Param #   \n",
      "=================================================================\n",
      " Hidden_Layer_1 (Dense)      (None, 16)                80        \n",
      "                                                                 \n",
      " Hidden_Layer_2 (Dense)      (None, 8)                 136       \n",
      "                                                                 \n",
      " Output_Layer (Dense)        (None, 1)                 9         \n",
      "                                                                 \n",
      "=================================================================\n",
      "Total params: 225 (900.00 Byte)\n",
      "Trainable params: 225 (900.00 Byte)\n",
      "Non-trainable params: 0 (0.00 Byte)\n",
      "_________________________________________________________________\n"
     ]
    }
   ],
   "source": [
    "# Membuat Model Sequential\n",
    "model = Sequential([\n",
    "    # Input layer. 'input_shape=[4]' berarti kita punya 4 fitur\n",
    "    Input(shape=(4,), name='Input_Layer'),\n",
    "    \n",
    "    # Hidden layer pertama dengan 16 neuron, aktivasi ReLU\n",
    "    Dense(16, activation='relu', name='Hidden_Layer_1'),\n",
    "    \n",
    "    # Hidden layer kedua dengan 8 neuron, aktivasi ReLU\n",
    "    Dense(8, activation='relu', name='Hidden_Layer_2'),\n",
    "    \n",
    "    # Output layer dengan 1 neuron, aktivasi sigmoid untuk klasifikasi biner\n",
    "    Dense(1, activation='sigmoid', name='Output_Layer')\n",
    "])\n",
    "\n",
    "# Menampilkan ringkasan arsitektur model\n",
    "model.summary()"
   ]
  },
  {
   "cell_type": "markdown",
   "id": "8e8a7f3f-e5ce-4467-ab59-85e27e260309",
   "metadata": {},
   "source": [
    "## 5. Kompilasi Model\n",
    "\n",
    "Sebelum melatih, model perlu di-*compile*. Di sini kita menentukan:\n",
    "* **`loss`:** `binary_crossentropy`. Ini adalah *loss function* standar untuk klasifikasi biner (2 kelas).\n",
    "* **`optimizer`:** `adam`. Ini adalah optimizer yang paling umum digunakan dan sangat efisien.\n",
    "* **`metrics`:** `['accuracy']`. Ini adalah bagian penting untuk **Instruksi 2**, kita meminta model untuk melaporkan akurasi di setiap *epoch*."
   ]
  },
  {
   "cell_type": "code",
   "execution_count": 14,
   "id": "1422e07b-dd04-4a58-ae7c-87b9dce3cd13",
   "metadata": {},
   "outputs": [
    {
     "name": "stdout",
     "output_type": "stream",
     "text": [
      "Model berhasil di-compile!\n"
     ]
    }
   ],
   "source": [
    "# Kompilasi Model\n",
    "model.compile(\n",
    "    optimizer='adam',\n",
    "    loss='binary_crossentropy',\n",
    "    metrics=['accuracy']\n",
    ")\n",
    "\n",
    "print(\"Model berhasil di-compile!\")"
   ]
  },
  {
   "cell_type": "markdown",
   "id": "2bf734f8-a5bb-4d35-a7d5-9505720deb45",
   "metadata": {},
   "source": [
    "## 6. Melatih Model\n",
    "\n",
    "Sekarang kita latih model menggunakan `.fit()`.\n",
    "* Kita latih pada `X_train` dan `y_train`.\n",
    "* Kita tentukan `epochs=50`. *Epoch* adalah satu kali iterasi penuh pada seluruh data training.\n",
    "* Kita tentukan `validation_data=(X_val, y_val)`. Ini memungkinkan Keras untuk menguji performa model pada data validasi di *setiap akhir epoch*.\n",
    "* Hasil dari `.fit()` kita simpan di variabel `history`. Variabel ini berisi catatan *loss* dan *accuracy* dari training dan validasi di setiap *epoch*."
   ]
  },
  {
   "cell_type": "code",
   "execution_count": 15,
   "id": "633cbe59-012f-47cb-9e8a-5d882bf54140",
   "metadata": {},
   "outputs": [
    {
     "name": "stdout",
     "output_type": "stream",
     "text": [
      "Memulai proses training model...\n",
      "Epoch 1/50\n",
      "35/35 [==============================] - 2s 13ms/step - loss: 0.6986 - accuracy: 0.5014 - val_loss: 0.6428 - val_accuracy: 0.7091\n",
      "Epoch 2/50\n",
      "35/35 [==============================] - 0s 6ms/step - loss: 0.5936 - accuracy: 0.7657 - val_loss: 0.5559 - val_accuracy: 0.8473\n",
      "Epoch 3/50\n",
      "35/35 [==============================] - 0s 5ms/step - loss: 0.5086 - accuracy: 0.8952 - val_loss: 0.4781 - val_accuracy: 0.9164\n",
      "Epoch 4/50\n",
      "35/35 [==============================] - 0s 6ms/step - loss: 0.4320 - accuracy: 0.9307 - val_loss: 0.4076 - val_accuracy: 0.9345\n",
      "Epoch 5/50\n",
      "35/35 [==============================] - 0s 5ms/step - loss: 0.3603 - accuracy: 0.9371 - val_loss: 0.3382 - val_accuracy: 0.9418\n",
      "Epoch 6/50\n",
      "35/35 [==============================] - 0s 5ms/step - loss: 0.2916 - accuracy: 0.9517 - val_loss: 0.2706 - val_accuracy: 0.9527\n",
      "Epoch 7/50\n",
      "35/35 [==============================] - 0s 6ms/step - loss: 0.2263 - accuracy: 0.9617 - val_loss: 0.2052 - val_accuracy: 0.9673\n",
      "Epoch 8/50\n",
      "35/35 [==============================] - 0s 5ms/step - loss: 0.1716 - accuracy: 0.9727 - val_loss: 0.1580 - val_accuracy: 0.9818\n",
      "Epoch 9/50\n",
      "35/35 [==============================] - 0s 5ms/step - loss: 0.1347 - accuracy: 0.9772 - val_loss: 0.1263 - val_accuracy: 0.9855\n",
      "Epoch 10/50\n",
      "35/35 [==============================] - 0s 5ms/step - loss: 0.1098 - accuracy: 0.9781 - val_loss: 0.1066 - val_accuracy: 0.9855\n",
      "Epoch 11/50\n",
      "35/35 [==============================] - 0s 7ms/step - loss: 0.0925 - accuracy: 0.9809 - val_loss: 0.0905 - val_accuracy: 0.9891\n",
      "Epoch 12/50\n",
      "35/35 [==============================] - 0s 6ms/step - loss: 0.0792 - accuracy: 0.9799 - val_loss: 0.0788 - val_accuracy: 0.9855\n",
      "Epoch 13/50\n",
      "35/35 [==============================] - 0s 6ms/step - loss: 0.0697 - accuracy: 0.9809 - val_loss: 0.0706 - val_accuracy: 0.9855\n",
      "Epoch 14/50\n",
      "35/35 [==============================] - 0s 6ms/step - loss: 0.0626 - accuracy: 0.9799 - val_loss: 0.0639 - val_accuracy: 0.9855\n",
      "Epoch 15/50\n",
      "35/35 [==============================] - 0s 6ms/step - loss: 0.0567 - accuracy: 0.9809 - val_loss: 0.0585 - val_accuracy: 0.9855\n",
      "Epoch 16/50\n",
      "35/35 [==============================] - 0s 6ms/step - loss: 0.0517 - accuracy: 0.9809 - val_loss: 0.0537 - val_accuracy: 0.9855\n",
      "Epoch 17/50\n",
      "35/35 [==============================] - 0s 5ms/step - loss: 0.0476 - accuracy: 0.9818 - val_loss: 0.0500 - val_accuracy: 0.9891\n",
      "Epoch 18/50\n",
      "35/35 [==============================] - 0s 6ms/step - loss: 0.0440 - accuracy: 0.9827 - val_loss: 0.0463 - val_accuracy: 0.9891\n",
      "Epoch 19/50\n",
      "35/35 [==============================] - 0s 5ms/step - loss: 0.0409 - accuracy: 0.9827 - val_loss: 0.0434 - val_accuracy: 0.9891\n",
      "Epoch 20/50\n",
      "35/35 [==============================] - 0s 6ms/step - loss: 0.0380 - accuracy: 0.9836 - val_loss: 0.0403 - val_accuracy: 0.9891\n",
      "Epoch 21/50\n",
      "35/35 [==============================] - 0s 6ms/step - loss: 0.0352 - accuracy: 0.9854 - val_loss: 0.0379 - val_accuracy: 0.9927\n",
      "Epoch 22/50\n",
      "35/35 [==============================] - 0s 6ms/step - loss: 0.0328 - accuracy: 0.9872 - val_loss: 0.0353 - val_accuracy: 0.9927\n",
      "Epoch 23/50\n",
      "35/35 [==============================] - 0s 5ms/step - loss: 0.0305 - accuracy: 0.9872 - val_loss: 0.0329 - val_accuracy: 0.9927\n",
      "Epoch 24/50\n",
      "35/35 [==============================] - 0s 5ms/step - loss: 0.0284 - accuracy: 0.9918 - val_loss: 0.0311 - val_accuracy: 0.9927\n",
      "Epoch 25/50\n",
      "35/35 [==============================] - 0s 6ms/step - loss: 0.0266 - accuracy: 0.9918 - val_loss: 0.0290 - val_accuracy: 0.9927\n",
      "Epoch 26/50\n",
      "35/35 [==============================] - 0s 6ms/step - loss: 0.0249 - accuracy: 0.9945 - val_loss: 0.0271 - val_accuracy: 0.9927\n",
      "Epoch 27/50\n",
      "35/35 [==============================] - 0s 6ms/step - loss: 0.0233 - accuracy: 0.9964 - val_loss: 0.0253 - val_accuracy: 1.0000\n",
      "Epoch 28/50\n",
      "35/35 [==============================] - 0s 5ms/step - loss: 0.0216 - accuracy: 0.9973 - val_loss: 0.0233 - val_accuracy: 1.0000\n",
      "Epoch 29/50\n",
      "35/35 [==============================] - 0s 5ms/step - loss: 0.0203 - accuracy: 0.9991 - val_loss: 0.0221 - val_accuracy: 1.0000\n",
      "Epoch 30/50\n",
      "35/35 [==============================] - 0s 5ms/step - loss: 0.0190 - accuracy: 1.0000 - val_loss: 0.0207 - val_accuracy: 1.0000\n",
      "Epoch 31/50\n",
      "35/35 [==============================] - 0s 6ms/step - loss: 0.0176 - accuracy: 1.0000 - val_loss: 0.0195 - val_accuracy: 1.0000\n",
      "Epoch 32/50\n",
      "35/35 [==============================] - 0s 5ms/step - loss: 0.0165 - accuracy: 1.0000 - val_loss: 0.0177 - val_accuracy: 1.0000\n",
      "Epoch 33/50\n",
      "35/35 [==============================] - 0s 5ms/step - loss: 0.0155 - accuracy: 1.0000 - val_loss: 0.0168 - val_accuracy: 1.0000\n",
      "Epoch 34/50\n",
      "35/35 [==============================] - 0s 5ms/step - loss: 0.0145 - accuracy: 1.0000 - val_loss: 0.0158 - val_accuracy: 1.0000\n",
      "Epoch 35/50\n",
      "35/35 [==============================] - 0s 6ms/step - loss: 0.0136 - accuracy: 1.0000 - val_loss: 0.0148 - val_accuracy: 1.0000\n",
      "Epoch 36/50\n",
      "35/35 [==============================] - 0s 6ms/step - loss: 0.0127 - accuracy: 1.0000 - val_loss: 0.0137 - val_accuracy: 1.0000\n",
      "Epoch 37/50\n",
      "35/35 [==============================] - 0s 5ms/step - loss: 0.0120 - accuracy: 1.0000 - val_loss: 0.0129 - val_accuracy: 1.0000\n",
      "Epoch 38/50\n",
      "35/35 [==============================] - 0s 5ms/step - loss: 0.0112 - accuracy: 1.0000 - val_loss: 0.0121 - val_accuracy: 1.0000\n",
      "Epoch 39/50\n",
      "35/35 [==============================] - 0s 5ms/step - loss: 0.0106 - accuracy: 1.0000 - val_loss: 0.0115 - val_accuracy: 1.0000\n",
      "Epoch 40/50\n",
      "35/35 [==============================] - 0s 5ms/step - loss: 0.0099 - accuracy: 1.0000 - val_loss: 0.0105 - val_accuracy: 1.0000\n",
      "Epoch 41/50\n",
      "35/35 [==============================] - 0s 5ms/step - loss: 0.0094 - accuracy: 1.0000 - val_loss: 0.0098 - val_accuracy: 1.0000\n",
      "Epoch 42/50\n",
      "35/35 [==============================] - 0s 5ms/step - loss: 0.0087 - accuracy: 1.0000 - val_loss: 0.0093 - val_accuracy: 1.0000\n",
      "Epoch 43/50\n",
      "35/35 [==============================] - 0s 5ms/step - loss: 0.0083 - accuracy: 1.0000 - val_loss: 0.0088 - val_accuracy: 1.0000\n",
      "Epoch 44/50\n",
      "35/35 [==============================] - 0s 5ms/step - loss: 0.0078 - accuracy: 1.0000 - val_loss: 0.0083 - val_accuracy: 1.0000\n",
      "Epoch 45/50\n",
      "35/35 [==============================] - 0s 5ms/step - loss: 0.0073 - accuracy: 1.0000 - val_loss: 0.0078 - val_accuracy: 1.0000\n",
      "Epoch 46/50\n",
      "35/35 [==============================] - 0s 5ms/step - loss: 0.0069 - accuracy: 1.0000 - val_loss: 0.0073 - val_accuracy: 1.0000\n",
      "Epoch 47/50\n",
      "35/35 [==============================] - 0s 5ms/step - loss: 0.0066 - accuracy: 1.0000 - val_loss: 0.0067 - val_accuracy: 1.0000\n",
      "Epoch 48/50\n",
      "35/35 [==============================] - 0s 5ms/step - loss: 0.0061 - accuracy: 1.0000 - val_loss: 0.0064 - val_accuracy: 1.0000\n",
      "Epoch 49/50\n",
      "35/35 [==============================] - 0s 5ms/step - loss: 0.0058 - accuracy: 1.0000 - val_loss: 0.0060 - val_accuracy: 1.0000\n",
      "Epoch 50/50\n",
      "35/35 [==============================] - 0s 6ms/step - loss: 0.0055 - accuracy: 1.0000 - val_loss: 0.0057 - val_accuracy: 1.0000\n",
      "\n",
      "Training selesai!\n"
     ]
    }
   ],
   "source": [
    "# Training Model\n",
    "# Kita set verbose=1 agar bisa melihat proses training per epoch\n",
    "print(\"Memulai proses training model...\")\n",
    "\n",
    "history = model.fit(\n",
    "    X_train,\n",
    "    y_train,\n",
    "    epochs=50,\n",
    "    validation_data=(X_val, y_val),\n",
    "    verbose=1\n",
    ")\n",
    "\n",
    "print(\"\\nTraining selesai!\")"
   ]
  },
  {
   "cell_type": "markdown",
   "id": "ef4b1444-11f7-492c-a999-e648cb386778",
   "metadata": {},
   "source": [
    "## 7. Evaluasi dan Visualisasi Hasil\n",
    "\n",
    "Ini adalah langkah terakhir untuk membuktikan **Instruksi 2 (Akurasi > 70%)**.\n",
    "\n",
    "Kita akan membuat 2 plot:\n",
    "1.  **Plot Akurasi:** Membandingkan `accuracy` (training) vs. `val_accuracy` (validation).\n",
    "2.  **Plot Loss:** Membandingkan `loss` (training) vs. `val_loss` (validation).\n",
    "\n",
    "Plot ini sangat penting untuk melihat apakah model kita *good fit*, *overfitting*, atau *underfitting*."
   ]
  },
  {
   "cell_type": "code",
   "execution_count": 16,
   "id": "01bf9da4-13ff-4123-9969-2ef5525f97fa",
   "metadata": {},
   "outputs": [
    {
     "data": {
      "image/png": "[encoded data removed]",
      "text/plain": [
       "<Figure size 1200x500 with 2 Axes>"
      ]
     },
     "metadata": {},
     "output_type": "display_data"
    },
    {
     "name": "stdout",
     "output_type": "stream",
     "text": [
      "\n",
      "Akurasi Training Terakhir: 100.00%\n",
      "Akurasi Validasi Terakhir: 100.00%\n"
     ]
    }
   ],
   "source": [
    "# Plot Hasil Training\n",
    "# Mengambil data dari 'history'\n",
    "history_df = pd.DataFrame(history.history)\n",
    "\n",
    "# Plot Akurasi\n",
    "plt.figure(figsize=(12, 5))\n",
    "plt.subplot(1, 2, 1)  # 1 baris, 2 kolom, plot ke-1\n",
    "plt.plot(history.history['accuracy'], label='Training Accuracy')\n",
    "plt.plot(history.history['val_accuracy'], label='Validation Accuracy')\n",
    "plt.title('Plot Akurasi Training vs. Validasi')\n",
    "plt.xlabel('Epoch')\n",
    "plt.ylabel('Akurasi')\n",
    "# Menambahkan garis horizontal 70% sebagai referensi\n",
    "plt.axhline(y=0.7, color='r', linestyle='--', label='Target 70%') \n",
    "plt.legend()\n",
    "\n",
    "# Plot Loss\n",
    "plt.subplot(1, 2, 2)  # 1 baris, 2 kolom, plot ke-2\n",
    "plt.plot(history.history['loss'], label='Training Loss')\n",
    "plt.plot(history.history['val_loss'], label='Validation Loss')\n",
    "plt.title('Plot Loss Training vs. Validasi')\n",
    "plt.xlabel('Epoch')\n",
    "plt.ylabel('Loss')\n",
    "plt.legend()\n",
    "\n",
    "plt.tight_layout()\n",
    "plt.show()\n",
    "\n",
    "# Menampilkan akurasi final\n",
    "final_train_acc = history.history['accuracy'][-1] * 100\n",
    "final_val_acc = history.history['val_accuracy'][-1] * 100\n",
    "\n",
    "print(f\"\\nAkurasi Training Terakhir: {final_train_acc:.2f}%\")\n",
    "print(f\"Akurasi Validasi Terakhir: {final_val_acc:.2f}%\")"
   ]
  },
  {
   "cell_type": "markdown",
   "id": "c2331e80-4134-4739-ba66-dbdfcb0aee4a",
   "metadata": {},
   "source": [
    "## Kesimpulan\n",
    "\n",
    "Berdasarkan hasil plot dan metrik di atas:\n",
    "\n",
    "1.  **Plot Akurasi:**\n",
    "    * Garis Akurasi Training (biru) dan Akurasi Validasi (oranye) **keduanya naik drastis** dan stabil di atas 99%, bahkan seringkali mencapai 100%.\n",
    "    * Kedua garis ini **jauh melampaui** garis target 70% (garis putus-putus merah).\n",
    "\n",
    "2.  **Plot Loss:**\n",
    "    * Kedua garis *loss* (training dan validasi) turun tajam dan stabil di nilai yang sangat rendah (mendekati 0).\n",
    "    * Kedua garis bergerak sangat berdekatan, ini menunjukkan model kita **sangat *good fit*** dan **tidak mengalami *overfitting***.\n",
    "\n",
    "**Hasil Akhir:**\n",
    "* Akurasi Training: **~100%** (atau >99%)\n",
    "* Akurasi Validasi: **~100%** (atau >99%)\n",
    "\n",
    "Seluruh instruksi posttest telah **TERPENUHI**. Model *sequential* sederhana berhasil dibuat dan mencapai akurasi training serta validasi jauh di atas 70%."
   ]
  }
 ],
 "metadata": {
  "kernelspec": {
   "display_name": "SitiFauziah_038",
   "language": "python",
   "name": "sitifauziah_038"
  },
  "language_info": {
   "codemirror_mode": {
    "name": "ipython",
    "version": 3
   },
   "file_extension": ".py",
   "mimetype": "text/x-python",
   "name": "python",
   "nbconvert_exporter": "python",
   "pygments_lexer": "ipython3",
   "version": "3.10.7"
  }
 },
 "nbformat": 4,
 "nbformat_minor": 5
}
